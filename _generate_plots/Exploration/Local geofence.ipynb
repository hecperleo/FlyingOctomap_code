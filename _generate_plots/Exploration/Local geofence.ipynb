{
 "cells": [
  {
   "cell_type": "code",
   "execution_count": 9,
   "metadata": {},
   "outputs": [],
   "source": [
    "import plotly.plotly as py\n",
    "import numpy as np\n",
    "from plotly.graph_objs import *"
   ]
  },
  {
   "cell_type": "code",
   "execution_count": 10,
   "metadata": {},
   "outputs": [],
   "source": [
    "start = [0, 0, 0]\n",
    "goal = [1, 1, 0]\n",
    "z = [0, 0, 1]\n",
    "start_array = np.array([start])  \n",
    "goal_array = np.array([goal]) \n",
    "z_array = np.array([z]) \n"
   ]
  },
  {
   "cell_type": "code",
   "execution_count": 11,
   "metadata": {},
   "outputs": [],
   "source": [
    "direction = goal_array - start_array\n",
    "ortho = (np.cross(direction, z_array))"
   ]
  },
  {
   "cell_type": "code",
   "execution_count": 12,
   "metadata": {},
   "outputs": [],
   "source": [
    "a = start + (np.multiply(ortho, 30))\n",
    "b = a + direction\n",
    "c = start - (np.multiply(ortho, 30))\n",
    "d = c + direction"
   ]
  },
  {
   "cell_type": "code",
   "execution_count": 13,
   "metadata": {},
   "outputs": [],
   "source": [
    "points = [a, b, c, d]\n",
    "x = np.array([e[0][0] for e in points])    \n",
    "y = np.array([e[0][1] for e in points])    "
   ]
  },
  {
   "cell_type": "code",
   "execution_count": 14,
   "metadata": {},
   "outputs": [
    {
     "data": {
      "text/plain": [
       "'file:///home/mfaria/Flying_Octomap_code/src/_generate_plots/Exploration/volume_exploration_vs_time.html'"
      ]
     },
     "execution_count": 14,
     "metadata": {},
     "output_type": "execute_result"
    }
   ],
   "source": [
    "import plotly.graph_objs as go\n",
    "\n",
    "import plotly\n",
    "\n",
    "trace = go.Scatter(\n",
    "    x=np.array([e[0][0] for e in points]),\n",
    "    y=np.array([e[0][1] for e in points]),\n",
    "    name='Geofence volume',\n",
    "    mode='markers',\n",
    ")\n",
    "layout = go.Layout(\n",
    "    title='Progression of volume of explored space cases analyzed',\n",
    "    xaxis=dict(\n",
    "        title='Time in milli seconds',\n",
    "        titlefont=dict(\n",
    "            family='Courier New, monospace',\n",
    "            size=18,\n",
    "            color='#7f7f7f'\n",
    "        )\n",
    "    ),\n",
    "    yaxis=dict(\n",
    "        title='Explored volume in cubic meters',\n",
    "        titlefont=dict(\n",
    "            family='Courier New, monospace',\n",
    "            size=18,\n",
    "            color='#7f7f7f'\n",
    "        )\n",
    "    )\n",
    ")\n",
    "fig=dict(data=[trace], layout=layout)\n",
    "plotly.offline.plot(fig, filename='./volume_exploration_vs_time.html', image='png')"
   ]
  },
  {
   "cell_type": "code",
   "execution_count": null,
   "metadata": {},
   "outputs": [],
   "source": []
  },
  {
   "cell_type": "code",
   "execution_count": null,
   "metadata": {},
   "outputs": [],
   "source": []
  }
 ],
 "metadata": {
  "kernelspec": {
   "display_name": "Python 2",
   "language": "python",
   "name": "python2"
  },
  "language_info": {
   "codemirror_mode": {
    "name": "ipython",
    "version": 2
   },
   "file_extension": ".py",
   "mimetype": "text/x-python",
   "name": "python",
   "nbconvert_exporter": "python",
   "pygments_lexer": "ipython2",
   "version": "2.7.15"
  }
 },
 "nbformat": 4,
 "nbformat_minor": 2
}
